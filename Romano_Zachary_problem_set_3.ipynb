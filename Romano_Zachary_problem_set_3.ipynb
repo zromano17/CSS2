{
  "nbformat": 4,
  "nbformat_minor": 0,
  "metadata": {
    "colab": {
      "name": "Romano_Zachary_problem_set_3.ipynb",
      "provenance": [],
      "collapsed_sections": []
    },
    "kernelspec": {
      "name": "python3",
      "display_name": "Python 3"
    },
    "language_info": {
      "name": "python"
    }
  },
  "cells": [
    {
      "cell_type": "markdown",
      "metadata": {
        "id": "lvRSBwjk8CvV"
      },
      "source": [
        "# Block 1\n",
        "Importing libraries"
      ]
    },
    {
      "cell_type": "code",
      "metadata": {
        "id": "8XgZXLnZ7v2N"
      },
      "source": [
        "import numpy as np\n",
        "import pandas as pd\n",
        "import matplotlib.pyplot as plt\n",
        "import seaborn as sns"
      ],
      "execution_count": 65,
      "outputs": []
    },
    {
      "cell_type": "markdown",
      "metadata": {
        "id": "PZjXaotk8JIX"
      },
      "source": [
        "# Block 2\n",
        "Web scraping the data"
      ]
    },
    {
      "cell_type": "code",
      "metadata": {
        "id": "1BgSTLcV7jcs",
        "colab": {
          "base_uri": "https://localhost:8080/",
          "height": 325
        },
        "outputId": "1475a162-e303-43da-9a2b-788ef1c0a74e"
      },
      "source": [
        "# Use read_html to find tables from the url\n",
        "data = pd.read_html(\"https://en.wikipedia.org/wiki/MonsterVerse\")\n",
        "\n",
        "# Save the table we want as data\n",
        "data = data[3]\n",
        "\n",
        "# Look at the table\n",
        "data.head(7)"
      ],
      "execution_count": 110,
      "outputs": [
        {
          "output_type": "execute_result",
          "data": {
            "text/html": [
              "<div>\n",
              "<style scoped>\n",
              "    .dataframe tbody tr th:only-of-type {\n",
              "        vertical-align: middle;\n",
              "    }\n",
              "\n",
              "    .dataframe tbody tr th {\n",
              "        vertical-align: top;\n",
              "    }\n",
              "\n",
              "    .dataframe thead tr th {\n",
              "        text-align: left;\n",
              "    }\n",
              "</style>\n",
              "<table border=\"1\" class=\"dataframe\">\n",
              "  <thead>\n",
              "    <tr>\n",
              "      <th></th>\n",
              "      <th>Character</th>\n",
              "      <th colspan=\"4\" halign=\"left\">Films</th>\n",
              "    </tr>\n",
              "    <tr>\n",
              "      <th></th>\n",
              "      <th>Character</th>\n",
              "      <th>Godzilla</th>\n",
              "      <th>Kong:Skull Island</th>\n",
              "      <th>Godzilla:King of the Monsters</th>\n",
              "      <th>Godzilla vs. Kong</th>\n",
              "    </tr>\n",
              "    <tr>\n",
              "      <th></th>\n",
              "      <th>Monsters</th>\n",
              "      <th>Monsters</th>\n",
              "      <th>Monsters</th>\n",
              "      <th>Monsters</th>\n",
              "      <th>Monsters</th>\n",
              "    </tr>\n",
              "  </thead>\n",
              "  <tbody>\n",
              "    <tr>\n",
              "      <th>0</th>\n",
              "      <td>Godzilla</td>\n",
              "      <td>T.J. StormS</td>\n",
              "      <td>Pictured with archive audio</td>\n",
              "      <td>T.J. StormS</td>\n",
              "      <td>CGI</td>\n",
              "    </tr>\n",
              "    <tr>\n",
              "      <th>1</th>\n",
              "      <td>MUTO</td>\n",
              "      <td>Matt CrossSLee RossS</td>\n",
              "      <td>NaN</td>\n",
              "      <td>CGI</td>\n",
              "      <td>Archive footage</td>\n",
              "    </tr>\n",
              "    <tr>\n",
              "      <th>2</th>\n",
              "      <td>King Kong</td>\n",
              "      <td>NaN</td>\n",
              "      <td>Terry NotarySToby KebbellS</td>\n",
              "      <td>Archive footage</td>\n",
              "      <td>Eric PeteyS[57]</td>\n",
              "    </tr>\n",
              "    <tr>\n",
              "      <th>3</th>\n",
              "      <td>King Ghidorah</td>\n",
              "      <td>NaN</td>\n",
              "      <td>Pictured</td>\n",
              "      <td>Jason LilesSAlan MaxsonSRichard DortonS</td>\n",
              "      <td>Archive footage</td>\n",
              "    </tr>\n",
              "    <tr>\n",
              "      <th>4</th>\n",
              "      <td>Rodan</td>\n",
              "      <td>NaN</td>\n",
              "      <td>Pictured</td>\n",
              "      <td>Jason LilesS</td>\n",
              "      <td>Archive footage</td>\n",
              "    </tr>\n",
              "    <tr>\n",
              "      <th>5</th>\n",
              "      <td>Humans</td>\n",
              "      <td>Humans</td>\n",
              "      <td>Humans</td>\n",
              "      <td>Humans</td>\n",
              "      <td>Humans</td>\n",
              "    </tr>\n",
              "    <tr>\n",
              "      <th>6</th>\n",
              "      <td>Ishiro Serizawa</td>\n",
              "      <td>Ken Watanabe</td>\n",
              "      <td>NaN</td>\n",
              "      <td>Ken Watanabe</td>\n",
              "      <td>NaN</td>\n",
              "    </tr>\n",
              "  </tbody>\n",
              "</table>\n",
              "</div>"
            ],
            "text/plain": [
              "         Character  ...             Films\n",
              "         Character  ... Godzilla vs. Kong\n",
              "          Monsters  ...          Monsters\n",
              "0         Godzilla  ...               CGI\n",
              "1             MUTO  ...   Archive footage\n",
              "2        King Kong  ...   Eric PeteyS[57]\n",
              "3    King Ghidorah  ...   Archive footage\n",
              "4            Rodan  ...   Archive footage\n",
              "5           Humans  ...            Humans\n",
              "6  Ishiro Serizawa  ...               NaN\n",
              "\n",
              "[7 rows x 5 columns]"
            ]
          },
          "metadata": {
            "tags": []
          },
          "execution_count": 110
        }
      ]
    },
    {
      "cell_type": "markdown",
      "metadata": {
        "id": "gMUpGco28NDP"
      },
      "source": [
        "# Block 3\n",
        "Change the index, column and index names, remove the row that has all duplicates"
      ]
    },
    {
      "cell_type": "code",
      "metadata": {
        "colab": {
          "base_uri": "https://localhost:8080/",
          "height": 294
        },
        "id": "1kP60zjCpatw",
        "outputId": "16d84bc2-97d0-46e1-bb7f-cc549dccfb9f"
      },
      "source": [
        "# Rename columns\n",
        "data.columns = [\"Character\", \"Godzilla\", \"Kong: Skull Island\", \"Godzilla: King of the Monsters\", \"Godzilla vs. Kong\"]\n",
        "\n",
        "# Set character as the index\n",
        "data.index = data[\"Character\"]\n",
        "\n",
        "# Drop character column\n",
        "data = data.drop(columns = \"Character\")\n",
        "\n",
        "# Remove row with duplicates\n",
        "data = data.drop(\"Humans\")\n",
        "\n",
        "# Look at the updated table\n",
        "data.head(7)"
      ],
      "execution_count": 111,
      "outputs": [
        {
          "output_type": "execute_result",
          "data": {
            "text/html": [
              "<div>\n",
              "<style scoped>\n",
              "    .dataframe tbody tr th:only-of-type {\n",
              "        vertical-align: middle;\n",
              "    }\n",
              "\n",
              "    .dataframe tbody tr th {\n",
              "        vertical-align: top;\n",
              "    }\n",
              "\n",
              "    .dataframe thead th {\n",
              "        text-align: right;\n",
              "    }\n",
              "</style>\n",
              "<table border=\"1\" class=\"dataframe\">\n",
              "  <thead>\n",
              "    <tr style=\"text-align: right;\">\n",
              "      <th></th>\n",
              "      <th>Godzilla</th>\n",
              "      <th>Kong: Skull Island</th>\n",
              "      <th>Godzilla: King of the Monsters</th>\n",
              "      <th>Godzilla vs. Kong</th>\n",
              "    </tr>\n",
              "    <tr>\n",
              "      <th>Character</th>\n",
              "      <th></th>\n",
              "      <th></th>\n",
              "      <th></th>\n",
              "      <th></th>\n",
              "    </tr>\n",
              "  </thead>\n",
              "  <tbody>\n",
              "    <tr>\n",
              "      <th>Godzilla</th>\n",
              "      <td>T.J. StormS</td>\n",
              "      <td>Pictured with archive audio</td>\n",
              "      <td>T.J. StormS</td>\n",
              "      <td>CGI</td>\n",
              "    </tr>\n",
              "    <tr>\n",
              "      <th>MUTO</th>\n",
              "      <td>Matt CrossSLee RossS</td>\n",
              "      <td>NaN</td>\n",
              "      <td>CGI</td>\n",
              "      <td>Archive footage</td>\n",
              "    </tr>\n",
              "    <tr>\n",
              "      <th>King Kong</th>\n",
              "      <td>NaN</td>\n",
              "      <td>Terry NotarySToby KebbellS</td>\n",
              "      <td>Archive footage</td>\n",
              "      <td>Eric PeteyS[57]</td>\n",
              "    </tr>\n",
              "    <tr>\n",
              "      <th>King Ghidorah</th>\n",
              "      <td>NaN</td>\n",
              "      <td>Pictured</td>\n",
              "      <td>Jason LilesSAlan MaxsonSRichard DortonS</td>\n",
              "      <td>Archive footage</td>\n",
              "    </tr>\n",
              "    <tr>\n",
              "      <th>Rodan</th>\n",
              "      <td>NaN</td>\n",
              "      <td>Pictured</td>\n",
              "      <td>Jason LilesS</td>\n",
              "      <td>Archive footage</td>\n",
              "    </tr>\n",
              "    <tr>\n",
              "      <th>Ishiro Serizawa</th>\n",
              "      <td>Ken Watanabe</td>\n",
              "      <td>NaN</td>\n",
              "      <td>Ken Watanabe</td>\n",
              "      <td>NaN</td>\n",
              "    </tr>\n",
              "    <tr>\n",
              "      <th>Vivienne Graham</th>\n",
              "      <td>Sally Hawkins</td>\n",
              "      <td>NaN</td>\n",
              "      <td>Sally Hawkins</td>\n",
              "      <td>NaN</td>\n",
              "    </tr>\n",
              "  </tbody>\n",
              "</table>\n",
              "</div>"
            ],
            "text/plain": [
              "                             Godzilla  ... Godzilla vs. Kong\n",
              "Character                              ...                  \n",
              "Godzilla                  T.J. StormS  ...               CGI\n",
              "MUTO             Matt CrossSLee RossS  ...   Archive footage\n",
              "King Kong                         NaN  ...   Eric PeteyS[57]\n",
              "King Ghidorah                     NaN  ...   Archive footage\n",
              "Rodan                             NaN  ...   Archive footage\n",
              "Ishiro Serizawa          Ken Watanabe  ...               NaN\n",
              "Vivienne Graham         Sally Hawkins  ...               NaN\n",
              "\n",
              "[7 rows x 4 columns]"
            ]
          },
          "metadata": {
            "tags": []
          },
          "execution_count": 111
        }
      ]
    },
    {
      "cell_type": "markdown",
      "metadata": {
        "id": "lMEfxDl48e7K"
      },
      "source": [
        "# Block 4\n",
        "Save the file as a .csv with the delimiter being tabs"
      ]
    },
    {
      "cell_type": "code",
      "metadata": {
        "id": "XrPju4R9Dhhy"
      },
      "source": [
        "data.to_csv(\"problem_set_3.csv\", sep = \"\\t\")"
      ],
      "execution_count": 94,
      "outputs": []
    }
  ]
}
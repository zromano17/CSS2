{
  "nbformat": 4,
  "nbformat_minor": 0,
  "metadata": {
    "colab": {
      "name": "Romano_Zachary_problem_set_2.ipynb",
      "provenance": [],
      "collapsed_sections": []
    },
    "kernelspec": {
      "name": "python3",
      "display_name": "Python 3"
    },
    "language_info": {
      "name": "python"
    }
  },
  "cells": [
    {
      "cell_type": "markdown",
      "metadata": {
        "id": "7yurdciKKU9X"
      },
      "source": [
        "# Block 1\n",
        "Importing libraries"
      ]
    },
    {
      "cell_type": "code",
      "metadata": {
        "id": "Dg5VDna5KRAp"
      },
      "source": [
        "import seaborn as sns\n",
        "import matplotlib.pyplot as plt\n",
        "import pandas as pd\n",
        "import numpy as np"
      ],
      "execution_count": 1,
      "outputs": []
    },
    {
      "cell_type": "markdown",
      "metadata": {
        "id": "UTLyPt6VLGgx"
      },
      "source": [
        "# Block 2\n",
        "Creating the figure"
      ]
    },
    {
      "cell_type": "code",
      "metadata": {
        "colab": {
          "base_uri": "https://localhost:8080/",
          "height": 297
        },
        "id": "PgcchzyfjMEY",
        "outputId": "202a237f-ce96-4036-8dc3-d323c16baa93"
      },
      "source": [
        "# Load in the anscombe dataset\n",
        "anscombe = sns.load_dataset('anscombe')\n",
        "\n",
        "# Subset the data into 4 separate datasets\n",
        "anscombe1 = anscombe[anscombe[\"dataset\"] == \"I\"]\n",
        "anscombe2 = anscombe[anscombe[\"dataset\"] == \"II\"]\n",
        "anscombe3 = anscombe[anscombe[\"dataset\"] == \"III\"]\n",
        "anscombe4 = anscombe[anscombe[\"dataset\"] == \"IV\"]\n",
        "\n",
        "# Create the 2x2 subplot of Anscombe's quartet using the object oriented approach\n",
        "fig, axes = plt.subplots(nrows = 2, ncols = 2)\n",
        "\n",
        "for i in np.arange(0,2):\n",
        "  for j in np.arange(0,2):\n",
        "\n",
        "  # Subplot 1\n",
        "    if i == 0 and j == 0:\n",
        "      axes[i, j].plot(anscombe1[\"x\"], anscombe1[\"y\"], linestyle = \"\", marker = \"o\")\n",
        "      axes[i, j].set_xlabel(\"$x_1$\") # set x axis label\n",
        "      axes[i, j].set_ylabel(\"$y_1$\") # set y axis label\n",
        "      axes[i, j].set_title(\"I\", fontweight = \"bold\") # add title\n",
        "\n",
        "      # Add mean, standard deviation for x and y\n",
        "      axes[i, j].annotate(\"Mean of x: \" + str(round(anscombe1[\"x\"].mean(), 2)), xy = (3.5, 13.5), size = 5)\n",
        "      axes[i, j].annotate(\"Mean of y: \" + str(round(anscombe1[\"y\"].mean(), 2)), xy = (3.5, 12.5), size = 5)\n",
        "      axes[i, j].annotate(\"Standard deviation of x: \" + str(round(anscombe1[\"x\"].std(), 2)), xy = (3.5, 11.5), size = 5)\n",
        "      axes[i, j].annotate(\"Standard deviation of y: \" + str(round(anscombe1[\"y\"].std(), 2)), xy = (3.5, 10.5), size = 5)\n",
        "\n",
        "  # Subplot 2\n",
        "    elif i == 0 and j == 1:\n",
        "      axes[i, j].plot(anscombe2[\"x\"], anscombe2[\"y\"], linestyle = \"\", marker = \"o\", color = \"orange\")\n",
        "      axes[i, j].set_xlabel(\"$x_2$\") # set x axis label\n",
        "      axes[i, j].set_ylabel(\"$y_2$\") # set y axis label\n",
        "      axes[i, j].set_title(\"II\", fontweight = \"bold\") # add title\n",
        "\n",
        "      # Add mean, standard deviation for x and y\n",
        "      axes[i, j].annotate(\"Mean of x: \" + str(round(anscombe2[\"x\"].mean(), 2)), xy = (3.5, 13.5), size = 5)\n",
        "      axes[i, j].annotate(\"Mean of y: \" + str(round(anscombe2[\"y\"].mean(), 2)), xy = (3.5, 12.5), size = 5)\n",
        "      axes[i, j].annotate(\"Standard deviation of x: \" + str(round(anscombe2[\"x\"].std(), 2)), xy = (3.5, 11.5), size = 5)\n",
        "      axes[i, j].annotate(\"Standard deviation of y: \" + str(round(anscombe2[\"y\"].std(), 2)), xy = (3.5, 10.5), size = 5)\n",
        "\n",
        "  # Subplot 3\n",
        "    elif i == 1 and j == 0:\n",
        "      axes[i, j].plot(anscombe3[\"x\"], anscombe3[\"y\"], linestyle = \"\", marker = \"o\", color = \"green\")\n",
        "      axes[i, j].set_xlabel(\"$x_3$\") # set x axis label\n",
        "      axes[i, j].set_ylabel(\"$y_3$\") # set y axis label\n",
        "      axes[i, j].set_title(\"III\", fontweight = \"bold\") # add title\n",
        "\n",
        "      # Add mean, standard deviation for x and y\n",
        "      axes[i, j].annotate(\"Mean of x: \" + str(round(anscombe3[\"x\"].mean(), 2)), xy = (3.5, 13.5), size = 5)\n",
        "      axes[i, j].annotate(\"Mean of y: \" + str(round(anscombe3[\"y\"].mean(), 2)), xy = (3.5, 12.5), size = 5)\n",
        "      axes[i, j].annotate(\"Standard deviation of x: \" + str(round(anscombe3[\"x\"].std(), 2)), xy = (3.5, 11.5), size = 5)\n",
        "      axes[i, j].annotate(\"Standard deviation of y: \" + str(round(anscombe3[\"y\"].std(), 2)), xy = (3.5, 10.5), size = 5)\n",
        "\n",
        "  # Subplot 4\n",
        "    else:\n",
        "      axes[i, j].plot(anscombe4[\"x\"], anscombe4[\"y\"], linestyle = \"\", marker = \"o\", color = \"purple\")\n",
        "      axes[i, j].set_xlabel(\"$x_4$\") # set x axis label\n",
        "      axes[i, j].set_ylabel(\"$y_4$\") # set y axis label\n",
        "      axes[i, j].set_title(\"IV\", fontweight = \"bold\") # add title\n",
        "\n",
        "      # Add mean, standard deviation for x and y\n",
        "      axes[i, j].annotate(\"Mean of x: \" + str(round(anscombe4[\"x\"].mean(), 2)), xy = (3.5, 13.5), size = 5)\n",
        "      axes[i, j].annotate(\"Mean of y: \" + str(round(anscombe4[\"y\"].mean(), 2)), xy = (3.5, 12.5), size = 5)\n",
        "      axes[i, j].annotate(\"Standard deviation of x: \" + str(round(anscombe4[\"x\"].std(), 2)), xy = (3.5, 11.5), size = 5)\n",
        "      axes[i, j].annotate(\"Standard deviation of y: \" + str(round(anscombe4[\"y\"].std(), 2)), xy = (3.5, 10.5), size = 5)\n",
        "\n",
        "    axes[i, j].set_xlim([3, 20]) # set x limit for all subplots\n",
        "    axes[i, j].set_ylim([2, 15]) # set y limit for all subplots\n",
        "    plt.tight_layout()"
      ],
      "execution_count": 2,
      "outputs": [
        {
          "output_type": "display_data",
          "data": {
            "image/png": "[encoded data removed]",
            "text/plain": [
              "<Figure size 432x288 with 4 Axes>"
            ]
          },
          "metadata": {
            "tags": [],
            "needs_background": "light"
          }
        }
      ]
    },
    {
      "cell_type": "markdown",
      "metadata": {
        "id": "yDaT4FO-LHfN"
      },
      "source": [
        "# Block 3\n",
        "Saving the image"
      ]
    },
    {
      "cell_type": "code",
      "metadata": {
        "id": "MNpjpIAbLJ-1"
      },
      "source": [
        "fig.savefig('fig_problem_set_2.pdf')"
      ],
      "execution_count": 3,
      "outputs": []
    }
  ]
}
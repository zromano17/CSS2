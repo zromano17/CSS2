{
  "nbformat": 4,
  "nbformat_minor": 0,
  "metadata": {
    "colab": {
      "name": "Romano_Zachary_problem_set_9.ipynb",
      "provenance": []
    },
    "kernelspec": {
      "name": "python3",
      "display_name": "Python 3"
    },
    "language_info": {
      "name": "python"
    }
  },
  "cells": [
    {
      "cell_type": "markdown",
      "metadata": {
        "id": "0Y2UAQTEnO5E"
      },
      "source": [
        "# Block 1\n",
        "Importing libraries and loading data"
      ]
    },
    {
      "cell_type": "code",
      "metadata": {
        "id": "n2cwtxSsnCgt"
      },
      "source": [
        "import seaborn as sns\n",
        "import pandas as pd\n",
        "import numpy as np\n",
        "import matplotlib.pyplot as plt\n",
        "from sklearn.linear_model import LinearRegression\n",
        "\n",
        "data = sns.load_dataset(\"geyser\")"
      ],
      "execution_count": 28,
      "outputs": []
    },
    {
      "cell_type": "markdown",
      "metadata": {
        "id": "-St9mhfynZhp"
      },
      "source": [
        "# Block 2\n",
        "Create your own k-fold cross validation function"
      ]
    },
    {
      "cell_type": "code",
      "metadata": {
        "id": "8Em_OPBUndeF"
      },
      "source": [
        "def kfold(X, y, k):\n",
        "  \"\"\"\n",
        "  a function that performs k-fold cross validation\n",
        "\n",
        "  X = predictor\n",
        "  y = variable you want to predict\n",
        "  k = number of folds\n",
        "  \"\"\"\n",
        "\n",
        "  # Define our model (linear regression)\n",
        "  model = LinearRegression()\n",
        "\n",
        "  # Set a count to 0 (this will allow us to loop through folds)\n",
        "  count = 0\n",
        "\n",
        "  # Initialize a list to save the test R^2 values\n",
        "  test_score_list = []\n",
        "\n",
        "  # Create a for loop that iterates through the input number of folds\n",
        "  for i in range(k):\n",
        "    X = np.array(X)\n",
        "    X_split = np.array_split(X, k)\n",
        "    X_test = X_split[count]\n",
        "    X_train = np.concatenate(np.delete(X_split, count))\n",
        "\n",
        "    y = np.array(y)\n",
        "    y_split = np.array_split(y, k)\n",
        "    y_test = y_split[count]\n",
        "    y_train = np.concatenate(np.delete(y_split, count)) \n",
        "\n",
        "    # Reshape train and test sets into 2D arrays\n",
        "    X_train = X_train.reshape(-1, 1)\n",
        "    y_train = y_train.reshape(-1, 1)\n",
        "    X_test = X_test.reshape(-1, 1)\n",
        "    y_test = y_test.reshape(-1, 1)\n",
        "\n",
        "    # increase count by 1 each iteration to loop through folds\n",
        "    count += 1\n",
        "\n",
        "    # Fit a linear regression model to the training X and training y data\n",
        "    model.fit(X_train, y_train)\n",
        "\n",
        "    # Add the R^2 values to a list\n",
        "    test_score_list.append(model.score(X_test, y_test))\n",
        "\n",
        "  # Calculate the average R^2 value\n",
        "  mean_test_score = np.mean(test_score_list)\n",
        "\n",
        "  # Calculate the standard deviation of the R^2 values\n",
        "  score_sd = np.std(test_score_list)\n",
        "\n",
        "  # Output the average R^2 value and standard deviation of the R^2 values\n",
        "  print(\"Average R^2 value:\")\n",
        "  print(mean_test_score)\n",
        "  print(\"Standard deviation of R^2 values:\")\n",
        "  print(score_sd)"
      ],
      "execution_count": 105,
      "outputs": []
    },
    {
      "cell_type": "markdown",
      "metadata": {
        "id": "qoB3OfB4nf8b"
      },
      "source": [
        "# Block 3\n",
        "Print the averages and standard deviations for k-folds with k being 3, 5, 10, and 20"
      ]
    },
    {
      "cell_type": "code",
      "metadata": {
        "colab": {
          "base_uri": "https://localhost:8080/"
        },
        "id": "uBv7krYzBMos",
        "outputId": "8540ede4-bb35-49c5-c12f-fd14fbb814e8"
      },
      "source": [
        "# Remove warning to make ouput easier to read\n",
        "np.warnings.filterwarnings(\"ignore\", category = np.VisibleDeprecationWarning) \n",
        "\n",
        "print(\"k = 3\")\n",
        "kfold(data[\"duration\"], data[\"waiting\"], 3)\n",
        "print()\n",
        "\n",
        "print(\"k = 5\")\n",
        "kfold(data[\"duration\"], data[\"waiting\"], 5)\n",
        "print()\n",
        "\n",
        "print(\"k = 10\")\n",
        "kfold(data[\"duration\"], data[\"waiting\"], 10)\n",
        "print()\n",
        "\n",
        "print(\"k = 20\")\n",
        "kfold(data[\"duration\"], data[\"waiting\"], 20)"
      ],
      "execution_count": 106,
      "outputs": [
        {
          "output_type": "stream",
          "text": [
            "k = 3\n",
            "Average R^2 value:\n",
            "0.8000625590143694\n",
            "Standard deviation of R^2 values:\n",
            "0.029772518371070162\n",
            "\n",
            "k = 5\n",
            "Average R^2 value:\n",
            "0.8053092844986601\n",
            "Standard deviation of R^2 values:\n",
            "0.02413055856676901\n",
            "\n",
            "k = 10\n",
            "Average R^2 value:\n",
            "0.7934416369601104\n",
            "Standard deviation of R^2 values:\n",
            "0.08534190424208755\n",
            "\n",
            "k = 20\n",
            "Average R^2 value:\n",
            "0.788593647254244\n",
            "Standard deviation of R^2 values:\n",
            "0.09534147944216327\n"
          ],
          "name": "stdout"
        }
      ]
    },
    {
      "cell_type": "markdown",
      "metadata": {
        "id": "2TRsPTuinipw"
      },
      "source": [
        "# Block 4\n",
        "Interpret the results"
      ]
    },
    {
      "cell_type": "markdown",
      "metadata": {
        "id": "F0qqt-OPDBy2"
      },
      "source": [
        "Based on the results, when using the duration of the previous eruption of the Old Faithful Geyser to predict the amount of time until the next eruption, it would be most beneficial to use k-fold cross validation with the number of folds set at 5. This means that the data should be split approximately equally five ways, and the algorithm will be trained on 4 folds five times, leaving a different fold out each time. The left out data will be used to test how well the model is working. Each iteration of model testing will give us a new R^2 score, so we must take the average of the R^2 scores to determine the best number of folds to use. In this case, we know it is 5 because it ouputs the highest average R^2 score (0.805) and lowest standard deviation of R^2 values (0.024). A high R^2 is better because it signifies a better fitting linear regression model. A lower standard deviation of R^2 values is better because it means there is less variance between the R^2 scores found within each iteration. This is important because high variance in R^2 between iterations could be indicative of overfitting. Thus, it would be best to utilize 5 folds when predicting the amount of time until the next eruption based on the duration of the previous eruption. 3 folds would be the next best option, followed by 10 folds, and 20 folds being the worst of the options tested for.\n",
        "\n",
        "We can also conclude that the duration of the previous eruption is a pretty strong predictor of the amount of time until the next eruption. This can be determined by looking at the average R^2 values found when using k-fold cross validation, which range from ~.78 to ~.81. These values indicate that our models were able to predict ~80% of the variance in the realtionship between the two variables."
      ]
    }
  ]
}
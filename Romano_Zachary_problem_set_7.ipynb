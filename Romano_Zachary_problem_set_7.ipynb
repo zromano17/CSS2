{
  "nbformat": 4,
  "nbformat_minor": 0,
  "metadata": {
    "colab": {
      "name": "Romano_Zachary_problem_set_7.ipynb",
      "provenance": [],
      "collapsed_sections": [],
      "toc_visible": true
    },
    "kernelspec": {
      "name": "python3",
      "display_name": "Python 3"
    }
  },
  "cells": [
    {
      "cell_type": "markdown",
      "metadata": {
        "id": "1aonsylV5vG9"
      },
      "source": [
        "Bolded text = **do not change**\n",
        "\n",
        "Italics text = *replace with your own words*\n"
      ]
    },
    {
      "cell_type": "markdown",
      "metadata": {
        "id": "c48Ljd_r5avn"
      },
      "source": [
        "******************\n",
        "*******************\n",
        "\n",
        "# **Description of data**\n",
        "\n",
        "*Describe your dataset and what you want to analyze*\n",
        " \n"
      ]
    },
    {
      "cell_type": "markdown",
      "metadata": {
        "id": "fab1kaaqD8sX"
      },
      "source": [
        "My dataset contains play-by-play data for the Los Angeles Chargers during the 2020 NFL season. The dataset only contains designed run plays for the team, so it excludes all defensive, special teams, passing, and non-designed run plays (i.e. quarterback scrambles). The three main variables that I will focus on are \"Yards,\" which takes the value of the amount of yards gained on the play, \"RushDirection,\" which assigns the run play to one of seven directions, and \"Formation,\" which provides information on the general offensive alignment for that play. Using these variables, I want to run a multi-variate linear regression to predict the amount of yards gained on a play by using pre-snap formation and rush direction as the independent variables."
      ]
    },
    {
      "cell_type": "markdown",
      "metadata": {
        "id": "41qkbQM57ToO"
      },
      "source": [
        "*******************\n",
        "*******************\n",
        "# **Libraries**"
      ]
    },
    {
      "cell_type": "code",
      "metadata": {
        "id": "o2hx4NVE7S3M"
      },
      "source": [
        "import pandas as pd\n",
        "import numpy as np\n",
        "import seaborn as sns\n",
        "import matplotlib.pyplot as plt"
      ],
      "execution_count": 1,
      "outputs": []
    },
    {
      "cell_type": "markdown",
      "metadata": {
        "id": "ooPIKTFI7LvE"
      },
      "source": [
        "*******************\n",
        "*******************\n",
        "# **Functions used in notebook**\n",
        "\n",
        "*If you write a function to help with any of your sections, please put that function here*"
      ]
    },
    {
      "cell_type": "code",
      "metadata": {
        "id": "ESfSh2Z27LPo"
      },
      "source": [
        "# Functions that you develop"
      ],
      "execution_count": null,
      "outputs": []
    },
    {
      "cell_type": "markdown",
      "metadata": {
        "id": "NWIyiy4m5lAI"
      },
      "source": [
        "*******************\n",
        "*******************\n",
        "# **Getting data**\n",
        "\n",
        "*Provide Pseudocode*"
      ]
    },
    {
      "cell_type": "code",
      "metadata": {
        "id": "lQDr0VdN5sYN"
      },
      "source": [
        "# Code for acquiring data\n",
        "data = pd.read_csv(\"pbp-2020-final.csv\")"
      ],
      "execution_count": 16,
      "outputs": []
    },
    {
      "cell_type": "code",
      "metadata": {
        "id": "A3KgWtcd9tFm"
      },
      "source": [
        "# Remove rows that are all NA\n",
        "data = data.dropna(how = \"all\")"
      ],
      "execution_count": 17,
      "outputs": []
    },
    {
      "cell_type": "code",
      "metadata": {
        "id": "kkNQsxro5XmC",
        "colab": {
          "base_uri": "https://localhost:8080/"
        },
        "outputId": "4b2eac68-4671-4748-d914-ed8a47527b0a"
      },
      "source": [
        "# Display first 5 rows of data\n",
        "print(data.head())"
      ],
      "execution_count": 4,
      "outputs": [
        {
          "output_type": "stream",
          "text": [
            "         GameId    GameDate  Quarter  ...  IsNoPlay        PenaltyType PenaltyYards\n",
            "0  2.021010e+09    1/3/2021      3.0  ...       0.0                NaN          0.0\n",
            "1  2.021010e+09    1/3/2021      3.0  ...       0.0  OFFENSIVE HOLDING         10.0\n",
            "2  2.020121e+09  12/13/2020      1.0  ...       0.0                NaN          0.0\n",
            "3  2.020121e+09  12/13/2020      1.0  ...       0.0                NaN          0.0\n",
            "4  2.020122e+09  12/17/2020      3.0  ...       0.0                NaN          0.0\n",
            "\n",
            "[5 rows x 41 columns]\n"
          ],
          "name": "stdout"
        }
      ]
    },
    {
      "cell_type": "code",
      "metadata": {
        "id": "O4Bm2e6i6wJn",
        "colab": {
          "base_uri": "https://localhost:8080/"
        },
        "outputId": "e73c412f-d2cf-4c7f-b4a8-81be17058824"
      },
      "source": [
        "# Display last 5 rows of data\n",
        "print(data.tail())"
      ],
      "execution_count": 5,
      "outputs": [
        {
          "output_type": "stream",
          "text": [
            "           GameId   GameDate  Quarter  ...  IsNoPlay  PenaltyType PenaltyYards\n",
            "425  2.020091e+09  9/13/2020      2.0  ...       0.0          NaN          0.0\n",
            "426  2.020091e+09  9/13/2020      2.0  ...       0.0          NaN          0.0\n",
            "427  2.020091e+09  9/13/2020      2.0  ...       0.0          NaN          0.0\n",
            "428  2.020091e+09  9/13/2020      1.0  ...       0.0          NaN          0.0\n",
            "429  2.020091e+09  9/13/2020      1.0  ...       0.0          NaN          0.0\n",
            "\n",
            "[5 rows x 41 columns]\n"
          ],
          "name": "stdout"
        }
      ]
    },
    {
      "cell_type": "code",
      "metadata": {
        "id": "RJLape8Q6y4M",
        "colab": {
          "base_uri": "https://localhost:8080/"
        },
        "outputId": "3d4e06f4-a23a-40bb-b53c-0926089c175e"
      },
      "source": [
        "# Show data.info\n",
        "data.info()"
      ],
      "execution_count": 6,
      "outputs": [
        {
          "output_type": "stream",
          "text": [
            "<class 'pandas.core.frame.DataFrame'>\n",
            "Int64Index: 430 entries, 0 to 429\n",
            "Data columns (total 41 columns):\n",
            " #   Column                          Non-Null Count  Dtype  \n",
            "---  ------                          --------------  -----  \n",
            " 0   GameId                          430 non-null    float64\n",
            " 1   GameDate                        430 non-null    object \n",
            " 2   Quarter                         430 non-null    float64\n",
            " 3   Minute                          430 non-null    float64\n",
            " 4   Second                          430 non-null    float64\n",
            " 5   OffenseTeam                     430 non-null    object \n",
            " 6   DefenseTeam                     430 non-null    object \n",
            " 7   Down                            430 non-null    float64\n",
            " 8   ToGo                            430 non-null    float64\n",
            " 9   YardLine                        430 non-null    float64\n",
            " 10  SeriesFirstDown                 430 non-null    float64\n",
            " 11  NextScore                       430 non-null    float64\n",
            " 12  Description                     430 non-null    object \n",
            " 13  TeamWin                         430 non-null    float64\n",
            " 14  SeasonYear                      430 non-null    float64\n",
            " 15  Yards                           430 non-null    float64\n",
            " 16  Formation                       430 non-null    object \n",
            " 17  PlayType                        430 non-null    object \n",
            " 18  IsRush                          430 non-null    float64\n",
            " 19  IsPass                          430 non-null    float64\n",
            " 20  IsIncomplete                    430 non-null    float64\n",
            " 21  IsTouchdown                     430 non-null    float64\n",
            " 22  PassType                        0 non-null      float64\n",
            " 23  IsSack                          430 non-null    float64\n",
            " 24  IsChallenge                     430 non-null    float64\n",
            " 25  IsChallengeReversed             430 non-null    float64\n",
            " 26  Challenger                      0 non-null      float64\n",
            " 27  IsMeasurement                   430 non-null    float64\n",
            " 28  IsInterception                  430 non-null    float64\n",
            " 29  IsFumble                        430 non-null    float64\n",
            " 30  IsPenalty                       430 non-null    float64\n",
            " 31  IsTwoPointConversion            430 non-null    float64\n",
            " 32  IsTwoPointConversionSuccessful  430 non-null    float64\n",
            " 33  RushDirection                   430 non-null    object \n",
            " 34  YardLineFixed                   430 non-null    float64\n",
            " 35  YardLineDirection               430 non-null    object \n",
            " 36  IsPenaltyAccepted               430 non-null    float64\n",
            " 37  PenaltyTeam                     12 non-null     object \n",
            " 38  IsNoPlay                        430 non-null    float64\n",
            " 39  PenaltyType                     12 non-null     object \n",
            " 40  PenaltyYards                    430 non-null    float64\n",
            "dtypes: float64(31), object(10)\n",
            "memory usage: 141.1+ KB\n"
          ],
          "name": "stdout"
        }
      ]
    },
    {
      "cell_type": "code",
      "metadata": {
        "id": "gvgJ3Ie463_8",
        "colab": {
          "base_uri": "https://localhost:8080/",
          "height": 311
        },
        "outputId": "2d328c71-f20e-4593-a4f4-bf5621f87551"
      },
      "source": [
        "# Show data.describe\n",
        "data.describe()"
      ],
      "execution_count": 7,
      "outputs": [
        {
          "output_type": "execute_result",
          "data": {
            "text/html": [
              "<div>\n",
              "<style scoped>\n",
              "    .dataframe tbody tr th:only-of-type {\n",
              "        vertical-align: middle;\n",
              "    }\n",
              "\n",
              "    .dataframe tbody tr th {\n",
              "        vertical-align: top;\n",
              "    }\n",
              "\n",
              "    .dataframe thead th {\n",
              "        text-align: right;\n",
              "    }\n",
              "</style>\n",
              "<table border=\"1\" class=\"dataframe\">\n",
              "  <thead>\n",
              "    <tr style=\"text-align: right;\">\n",
              "      <th></th>\n",
              "      <th>GameId</th>\n",
              "      <th>Quarter</th>\n",
              "      <th>Minute</th>\n",
              "      <th>Second</th>\n",
              "      <th>Down</th>\n",
              "      <th>ToGo</th>\n",
              "      <th>YardLine</th>\n",
              "      <th>SeriesFirstDown</th>\n",
              "      <th>NextScore</th>\n",
              "      <th>TeamWin</th>\n",
              "      <th>SeasonYear</th>\n",
              "      <th>Yards</th>\n",
              "      <th>IsRush</th>\n",
              "      <th>IsPass</th>\n",
              "      <th>IsIncomplete</th>\n",
              "      <th>IsTouchdown</th>\n",
              "      <th>PassType</th>\n",
              "      <th>IsSack</th>\n",
              "      <th>IsChallenge</th>\n",
              "      <th>IsChallengeReversed</th>\n",
              "      <th>Challenger</th>\n",
              "      <th>IsMeasurement</th>\n",
              "      <th>IsInterception</th>\n",
              "      <th>IsFumble</th>\n",
              "      <th>IsPenalty</th>\n",
              "      <th>IsTwoPointConversion</th>\n",
              "      <th>IsTwoPointConversionSuccessful</th>\n",
              "      <th>YardLineFixed</th>\n",
              "      <th>IsPenaltyAccepted</th>\n",
              "      <th>IsNoPlay</th>\n",
              "      <th>PenaltyYards</th>\n",
              "    </tr>\n",
              "  </thead>\n",
              "  <tbody>\n",
              "    <tr>\n",
              "      <th>count</th>\n",
              "      <td>4.300000e+02</td>\n",
              "      <td>430.000000</td>\n",
              "      <td>430.000000</td>\n",
              "      <td>430.000000</td>\n",
              "      <td>430.000000</td>\n",
              "      <td>430.000000</td>\n",
              "      <td>430.000000</td>\n",
              "      <td>430.000000</td>\n",
              "      <td>430.0</td>\n",
              "      <td>430.0</td>\n",
              "      <td>430.0</td>\n",
              "      <td>430.000000</td>\n",
              "      <td>430.0</td>\n",
              "      <td>430.0</td>\n",
              "      <td>430.0</td>\n",
              "      <td>430.000000</td>\n",
              "      <td>0.0</td>\n",
              "      <td>430.0</td>\n",
              "      <td>430.0</td>\n",
              "      <td>430.0</td>\n",
              "      <td>0.0</td>\n",
              "      <td>430.0</td>\n",
              "      <td>430.0</td>\n",
              "      <td>430.000000</td>\n",
              "      <td>430.000000</td>\n",
              "      <td>430.0</td>\n",
              "      <td>430.0</td>\n",
              "      <td>430.000000</td>\n",
              "      <td>430.000000</td>\n",
              "      <td>430.000000</td>\n",
              "      <td>430.000000</td>\n",
              "    </tr>\n",
              "    <tr>\n",
              "      <th>mean</th>\n",
              "      <td>2.020172e+09</td>\n",
              "      <td>2.544186</td>\n",
              "      <td>6.923256</td>\n",
              "      <td>28.265116</td>\n",
              "      <td>1.553488</td>\n",
              "      <td>7.837209</td>\n",
              "      <td>52.772093</td>\n",
              "      <td>0.232558</td>\n",
              "      <td>0.0</td>\n",
              "      <td>0.0</td>\n",
              "      <td>2020.0</td>\n",
              "      <td>3.930233</td>\n",
              "      <td>1.0</td>\n",
              "      <td>0.0</td>\n",
              "      <td>0.0</td>\n",
              "      <td>0.025581</td>\n",
              "      <td>NaN</td>\n",
              "      <td>0.0</td>\n",
              "      <td>0.0</td>\n",
              "      <td>0.0</td>\n",
              "      <td>NaN</td>\n",
              "      <td>0.0</td>\n",
              "      <td>0.0</td>\n",
              "      <td>0.013953</td>\n",
              "      <td>0.027907</td>\n",
              "      <td>0.0</td>\n",
              "      <td>0.0</td>\n",
              "      <td>27.846512</td>\n",
              "      <td>0.025581</td>\n",
              "      <td>0.013953</td>\n",
              "      <td>0.246512</td>\n",
              "    </tr>\n",
              "    <tr>\n",
              "      <th>std</th>\n",
              "      <td>2.341193e+05</td>\n",
              "      <td>1.153348</td>\n",
              "      <td>4.436148</td>\n",
              "      <td>17.978216</td>\n",
              "      <td>0.754582</td>\n",
              "      <td>4.119034</td>\n",
              "      <td>25.621490</td>\n",
              "      <td>0.422955</td>\n",
              "      <td>0.0</td>\n",
              "      <td>0.0</td>\n",
              "      <td>0.0</td>\n",
              "      <td>5.312146</td>\n",
              "      <td>0.0</td>\n",
              "      <td>0.0</td>\n",
              "      <td>0.0</td>\n",
              "      <td>0.158067</td>\n",
              "      <td>NaN</td>\n",
              "      <td>0.0</td>\n",
              "      <td>0.0</td>\n",
              "      <td>0.0</td>\n",
              "      <td>NaN</td>\n",
              "      <td>0.0</td>\n",
              "      <td>0.0</td>\n",
              "      <td>0.117434</td>\n",
              "      <td>0.164898</td>\n",
              "      <td>0.0</td>\n",
              "      <td>0.0</td>\n",
              "      <td>13.124105</td>\n",
              "      <td>0.158067</td>\n",
              "      <td>0.117434</td>\n",
              "      <td>1.706883</td>\n",
              "    </tr>\n",
              "    <tr>\n",
              "      <th>min</th>\n",
              "      <td>2.020091e+09</td>\n",
              "      <td>1.000000</td>\n",
              "      <td>0.000000</td>\n",
              "      <td>0.000000</td>\n",
              "      <td>1.000000</td>\n",
              "      <td>1.000000</td>\n",
              "      <td>3.000000</td>\n",
              "      <td>0.000000</td>\n",
              "      <td>0.0</td>\n",
              "      <td>0.0</td>\n",
              "      <td>2020.0</td>\n",
              "      <td>-5.000000</td>\n",
              "      <td>1.0</td>\n",
              "      <td>0.0</td>\n",
              "      <td>0.0</td>\n",
              "      <td>0.000000</td>\n",
              "      <td>NaN</td>\n",
              "      <td>0.0</td>\n",
              "      <td>0.0</td>\n",
              "      <td>0.0</td>\n",
              "      <td>NaN</td>\n",
              "      <td>0.0</td>\n",
              "      <td>0.0</td>\n",
              "      <td>0.000000</td>\n",
              "      <td>0.000000</td>\n",
              "      <td>0.0</td>\n",
              "      <td>0.0</td>\n",
              "      <td>0.000000</td>\n",
              "      <td>0.000000</td>\n",
              "      <td>0.000000</td>\n",
              "      <td>0.000000</td>\n",
              "    </tr>\n",
              "    <tr>\n",
              "      <th>25%</th>\n",
              "      <td>2.020100e+09</td>\n",
              "      <td>2.000000</td>\n",
              "      <td>3.000000</td>\n",
              "      <td>13.000000</td>\n",
              "      <td>1.000000</td>\n",
              "      <td>5.000000</td>\n",
              "      <td>31.000000</td>\n",
              "      <td>0.000000</td>\n",
              "      <td>0.0</td>\n",
              "      <td>0.0</td>\n",
              "      <td>2020.0</td>\n",
              "      <td>1.000000</td>\n",
              "      <td>1.0</td>\n",
              "      <td>0.0</td>\n",
              "      <td>0.0</td>\n",
              "      <td>0.000000</td>\n",
              "      <td>NaN</td>\n",
              "      <td>0.0</td>\n",
              "      <td>0.0</td>\n",
              "      <td>0.0</td>\n",
              "      <td>NaN</td>\n",
              "      <td>0.0</td>\n",
              "      <td>0.0</td>\n",
              "      <td>0.000000</td>\n",
              "      <td>0.000000</td>\n",
              "      <td>0.0</td>\n",
              "      <td>0.0</td>\n",
              "      <td>20.000000</td>\n",
              "      <td>0.000000</td>\n",
              "      <td>0.000000</td>\n",
              "      <td>0.000000</td>\n",
              "    </tr>\n",
              "    <tr>\n",
              "      <th>50%</th>\n",
              "      <td>2.020111e+09</td>\n",
              "      <td>3.000000</td>\n",
              "      <td>7.000000</td>\n",
              "      <td>28.000000</td>\n",
              "      <td>1.000000</td>\n",
              "      <td>10.000000</td>\n",
              "      <td>48.500000</td>\n",
              "      <td>0.000000</td>\n",
              "      <td>0.0</td>\n",
              "      <td>0.0</td>\n",
              "      <td>2020.0</td>\n",
              "      <td>3.000000</td>\n",
              "      <td>1.0</td>\n",
              "      <td>0.0</td>\n",
              "      <td>0.0</td>\n",
              "      <td>0.000000</td>\n",
              "      <td>NaN</td>\n",
              "      <td>0.0</td>\n",
              "      <td>0.0</td>\n",
              "      <td>0.0</td>\n",
              "      <td>NaN</td>\n",
              "      <td>0.0</td>\n",
              "      <td>0.0</td>\n",
              "      <td>0.000000</td>\n",
              "      <td>0.000000</td>\n",
              "      <td>0.0</td>\n",
              "      <td>0.0</td>\n",
              "      <td>29.000000</td>\n",
              "      <td>0.000000</td>\n",
              "      <td>0.000000</td>\n",
              "      <td>0.000000</td>\n",
              "    </tr>\n",
              "    <tr>\n",
              "      <th>75%</th>\n",
              "      <td>2.020121e+09</td>\n",
              "      <td>4.000000</td>\n",
              "      <td>11.000000</td>\n",
              "      <td>43.000000</td>\n",
              "      <td>2.000000</td>\n",
              "      <td>10.000000</td>\n",
              "      <td>74.000000</td>\n",
              "      <td>0.000000</td>\n",
              "      <td>0.0</td>\n",
              "      <td>0.0</td>\n",
              "      <td>2020.0</td>\n",
              "      <td>5.000000</td>\n",
              "      <td>1.0</td>\n",
              "      <td>0.0</td>\n",
              "      <td>0.0</td>\n",
              "      <td>0.000000</td>\n",
              "      <td>NaN</td>\n",
              "      <td>0.0</td>\n",
              "      <td>0.0</td>\n",
              "      <td>0.0</td>\n",
              "      <td>NaN</td>\n",
              "      <td>0.0</td>\n",
              "      <td>0.0</td>\n",
              "      <td>0.000000</td>\n",
              "      <td>0.000000</td>\n",
              "      <td>0.0</td>\n",
              "      <td>0.0</td>\n",
              "      <td>38.000000</td>\n",
              "      <td>0.000000</td>\n",
              "      <td>0.000000</td>\n",
              "      <td>0.000000</td>\n",
              "    </tr>\n",
              "    <tr>\n",
              "      <th>max</th>\n",
              "      <td>2.021010e+09</td>\n",
              "      <td>5.000000</td>\n",
              "      <td>15.000000</td>\n",
              "      <td>59.000000</td>\n",
              "      <td>4.000000</td>\n",
              "      <td>28.000000</td>\n",
              "      <td>100.000000</td>\n",
              "      <td>1.000000</td>\n",
              "      <td>0.0</td>\n",
              "      <td>0.0</td>\n",
              "      <td>2020.0</td>\n",
              "      <td>36.000000</td>\n",
              "      <td>1.0</td>\n",
              "      <td>0.0</td>\n",
              "      <td>0.0</td>\n",
              "      <td>1.000000</td>\n",
              "      <td>NaN</td>\n",
              "      <td>0.0</td>\n",
              "      <td>0.0</td>\n",
              "      <td>0.0</td>\n",
              "      <td>NaN</td>\n",
              "      <td>0.0</td>\n",
              "      <td>0.0</td>\n",
              "      <td>1.000000</td>\n",
              "      <td>1.000000</td>\n",
              "      <td>0.0</td>\n",
              "      <td>0.0</td>\n",
              "      <td>49.000000</td>\n",
              "      <td>1.000000</td>\n",
              "      <td>1.000000</td>\n",
              "      <td>15.000000</td>\n",
              "    </tr>\n",
              "  </tbody>\n",
              "</table>\n",
              "</div>"
            ],
            "text/plain": [
              "             GameId     Quarter  ...    IsNoPlay  PenaltyYards\n",
              "count  4.300000e+02  430.000000  ...  430.000000    430.000000\n",
              "mean   2.020172e+09    2.544186  ...    0.013953      0.246512\n",
              "std    2.341193e+05    1.153348  ...    0.117434      1.706883\n",
              "min    2.020091e+09    1.000000  ...    0.000000      0.000000\n",
              "25%    2.020100e+09    2.000000  ...    0.000000      0.000000\n",
              "50%    2.020111e+09    3.000000  ...    0.000000      0.000000\n",
              "75%    2.020121e+09    4.000000  ...    0.000000      0.000000\n",
              "max    2.021010e+09    5.000000  ...    1.000000     15.000000\n",
              "\n",
              "[8 rows x 31 columns]"
            ]
          },
          "metadata": {
            "tags": []
          },
          "execution_count": 7
        }
      ]
    },
    {
      "cell_type": "markdown",
      "metadata": {
        "id": "LYVBsWpr67I9"
      },
      "source": [
        "***************\n",
        "***************\n",
        "# **Visualizing data**\n",
        "\n",
        "*Provide relevant pseudocode*"
      ]
    },
    {
      "cell_type": "code",
      "metadata": {
        "id": "3GHgnZS266pq",
        "colab": {
          "base_uri": "https://localhost:8080/",
          "height": 462
        },
        "outputId": "4d7a06db-777d-4995-fce4-4b242befc539"
      },
      "source": [
        "# visualization 1 - Histogram of yards gained\n",
        "plt.figure(figsize = [10, 7])\n",
        "vis1 = sns.histplot(x = data[\"Yards\"], data = data)\n",
        "vis1.set_xlabel(\"Yards Gained\", fontsize = 12)\n",
        "vis1.set_ylabel(\"Frequency\", fontsize = 12)\n",
        "vis1.set_title(\"Distribution of Yards Gained per Play for the Los Angeles Chargers (2020 Season)\", fontsize = 14)\n",
        "plt.show()"
      ],
      "execution_count": 9,
      "outputs": [
        {
          "output_type": "display_data",
          "data": {
            "image/png": "[encoded data removed]",
            "text/plain": [
              "<Figure size 720x504 with 1 Axes>"
            ]
          },
          "metadata": {
            "tags": [],
            "needs_background": "light"
          }
        }
      ]
    },
    {
      "cell_type": "code",
      "metadata": {
        "id": "r1eaUiXt7Dzk",
        "colab": {
          "base_uri": "https://localhost:8080/",
          "height": 462
        },
        "outputId": "cb50b52f-a8d4-4e68-8841-76626ea1f883"
      },
      "source": [
        "# visualization 2 - Boxplot of yards gained by rush direction\n",
        "plt.figure(figsize = [10, 7])\n",
        "vis2 = sns.boxplot(x = data[\"RushDirection\"], y = data[\"Yards\"], data = data, order = [\"LEFT END\", \"LEFT TACKLE\", \"LEFT GUARD\", \"CENTER\", \"RIGHT GUARD\", \"RIGHT TACKLE\", \"RIGHT END\"])\n",
        "vis2.set_xlabel(\"Rush Direction\", fontsize = 12)\n",
        "vis2.set_ylabel(\"Yards Gained\", fontsize = 12)\n",
        "vis2.set_title(\"Yards Gained by Rush Direction for the Los Angeles Chargers (2020 Season)\", fontsize = 14)\n",
        "plt.show()"
      ],
      "execution_count": null,
      "outputs": [
        {
          "output_type": "display_data",
          "data": {
            "image/png": "[encoded data removed]",
            "text/plain": [
              "<Figure size 720x504 with 1 Axes>"
            ]
          },
          "metadata": {
            "tags": [],
            "needs_background": "light"
          }
        }
      ]
    },
    {
      "cell_type": "code",
      "metadata": {
        "id": "k9bM5YGS7FUb",
        "colab": {
          "base_uri": "https://localhost:8080/",
          "height": 462
        },
        "outputId": "b90ad5b1-589e-4ed1-e25c-994cd59367ef"
      },
      "source": [
        "# visualization 3 - Boxplot of yards gained by pre-snap formation\n",
        "plt.figure(figsize = [10, 7])\n",
        "vis3 = sns.boxplot(x = data[\"Formation\"], y = data[\"Yards\"], data = data)\n",
        "vis3.set_xlabel(\"Pre-Snap Formation\", fontsize = 12)\n",
        "vis3.set_ylabel(\"Yards Gained\", fontsize = 12)\n",
        "vis3.set_title(\"Yards Gained by Pre-Snap Formation for the Los Angeles Chargers (2020 Season)\", fontsize = 14)\n",
        "plt.show()"
      ],
      "execution_count": null,
      "outputs": [
        {
          "output_type": "display_data",
          "data": {
            "image/png": "[encoded data removed]",
            "text/plain": [
              "<Figure size 720x504 with 1 Axes>"
            ]
          },
          "metadata": {
            "tags": [],
            "needs_background": "light"
          }
        }
      ]
    },
    {
      "cell_type": "code",
      "metadata": {
        "id": "FjNzOSuQ7Gyw"
      },
      "source": [
        "# visualization 4"
      ],
      "execution_count": null,
      "outputs": []
    },
    {
      "cell_type": "code",
      "metadata": {
        "id": "FHe0b41j7IEP"
      },
      "source": [
        "# visualization 5"
      ],
      "execution_count": null,
      "outputs": []
    },
    {
      "cell_type": "code",
      "metadata": {
        "id": "ap9WwMmE7Jep"
      },
      "source": [
        "# visualization 6"
      ],
      "execution_count": null,
      "outputs": []
    },
    {
      "cell_type": "markdown",
      "metadata": {
        "id": "Auce80oG7whh"
      },
      "source": [
        "***************\n",
        "***************\n",
        "# **Feature Engineering**\n",
        "\n",
        "*If making specific choices (e.g., binning data, dummy coding, etc), please describe what you plan to do here*\n",
        "\n",
        "*Provide relevant pseudocode*\n"
      ]
    },
    {
      "cell_type": "code",
      "metadata": {
        "id": "oSLwS2a08FDu",
        "colab": {
          "base_uri": "https://localhost:8080/",
          "height": 636
        },
        "outputId": "520f8075-779b-427e-a28e-bd4783342ad0"
      },
      "source": [
        "# Check and take care of null values\n",
        "print(\"Heatplot displaying where the missing data is located:\")\n",
        "plt.figure(figsize = [10, 7])\n",
        "sns.heatmap(data.isnull())\n",
        "plt.show()\n",
        "print()\n",
        "\n",
        "print(\"There are no null values for the variables we will be using (RushDirection, Formation, Yards)\")"
      ],
      "execution_count": 10,
      "outputs": [
        {
          "output_type": "stream",
          "text": [
            "Heatplot displaying where the missing data is located:\n"
          ],
          "name": "stdout"
        },
        {
          "output_type": "display_data",
          "data": {
            "image/png": "[encoded data removed]",
            "text/plain": [
              "<Figure size 720x504 with 2 Axes>"
            ]
          },
          "metadata": {
            "tags": [],
            "needs_background": "light"
          }
        },
        {
          "output_type": "stream",
          "text": [
            "\n",
            "There are no null values for the variables we will be using (RushDirection, Formation, Yards)\n"
          ],
          "name": "stdout"
        }
      ]
    },
    {
      "cell_type": "code",
      "metadata": {
        "id": "H-DfvqUp8H5Z",
        "colab": {
          "base_uri": "https://localhost:8080/"
        },
        "outputId": "7f131c33-10cf-43f2-b13c-a47a42b7b641"
      },
      "source": [
        "# Check and take care of string values\n",
        "\n",
        "# List the variables you will be dummy coding\n",
        "print(\"Variables to be dummy coded: RushDirection, Formation\")"
      ],
      "execution_count": 11,
      "outputs": [
        {
          "output_type": "stream",
          "text": [
            "Variables to be dummy coded: RushDirection, Formation\n"
          ],
          "name": "stdout"
        }
      ]
    },
    {
      "cell_type": "code",
      "metadata": {
        "id": "PNAng6KF8K0h",
        "colab": {
          "base_uri": "https://localhost:8080/"
        },
        "outputId": "f34c20d1-741f-46db-d0d0-cf68427637c4"
      },
      "source": [
        "# Check outliers for \"Yards\"\n",
        "Q1 = data[\"Yards\"].quantile(.25)\n",
        "Q3 = data[\"Yards\"].quantile(.75)\n",
        "IQR = Q3 - Q1\n",
        "\n",
        "over_outliers = data[data[\"Yards\"] > (Q3 + (IQR * 1.5))]\n",
        "under_outliers = data[data[\"Yards\"] < (Q1 - (IQR * 1.5))]\n",
        "\n",
        "print(\"There are\", len(over_outliers) + len(under_outliers), \"outliers values for the 'Yards' variable:\")\n",
        "print(over_outliers[\"Yards\"], under_outliers[\"Yards\"])\n",
        "print()\n",
        "\n",
        "# Remove outliers for \"Yards\"\n",
        "data[\"Yards\"] = np.where(data[\"Yards\"] > (Q3 + (IQR * 1.5)), np.nan, data[\"Yards\"])\n",
        "data[\"Yards\"] = np.where(data[\"Yards\"] < (Q1 - (IQR * 1.5)), np.nan, data[\"Yards\"])\n",
        "\n",
        "# Show updated maximum\n",
        "print(\"Maximum yards gained after removing outliers:\")\n",
        "print(data[\"Yards\"].max())"
      ],
      "execution_count": 19,
      "outputs": [
        {
          "output_type": "stream",
          "text": [
            "There are 0 outliers values for the 'Yards' variable:\n",
            "Series([], Name: Yards, dtype: float64) Series([], Name: Yards, dtype: float64)\n",
            "\n",
            "Maximum yards gained after removing outliers:\n",
            "11.0\n"
          ],
          "name": "stdout"
        }
      ]
    },
    {
      "cell_type": "code",
      "metadata": {
        "id": "n7bZoizV8NDl",
        "colab": {
          "base_uri": "https://localhost:8080/"
        },
        "outputId": "17e0389f-a382-4cc1-b264-b11d30879c6d"
      },
      "source": [
        "# Any additional feature engineering\n",
        "\n",
        "# Show whether or not there are duplicates\n",
        "duplicates = data.duplicated().any()\n",
        "print(\"Are there duplicates in the dataframe?\", duplicates)"
      ],
      "execution_count": 15,
      "outputs": [
        {
          "output_type": "stream",
          "text": [
            "Are there duplicates in the dataframe? False\n"
          ],
          "name": "stdout"
        }
      ]
    },
    {
      "cell_type": "markdown",
      "metadata": {
        "id": "dMyIaj45Dml5"
      },
      "source": [
        "My next steps would be to decide whether or not to remove plays where there is a penalty accepted, as the penalty may have had an effect on the yardage gained on that particular play. I have already dropped rows where all of the data are NAs and the remaining NAs in the dataset make sense given my analysis. There are no duplicate values in the dataset (because each row is a unique run play), so we do not have to worry about dealing with duplicate rows. I will also need to create dummy variables for the variables \"RushDirection\" and \"Formation\" in order to use these variables to make predictions about yardage gained. For my analysis, I plan on running a multi-variate linear regression using the dummy-coded variables for \"RushDirection\" and \"Formation\" as my independent variables and \"Yards\" as my dependent variable. I plan on running regressions for both of the indpendent variables separately at first, and then combining the two together to see how well these variables predict yardage gained."
      ]
    },
    {
      "cell_type": "markdown",
      "metadata": {
        "id": "tCAIFvyj8ULA"
      },
      "source": [
        "***************\n",
        "***************\n",
        "# **Analysis section**\n",
        "\n",
        "*Provide relevant pseudocode for linear regression or classification*"
      ]
    },
    {
      "cell_type": "code",
      "metadata": {
        "id": "yojYKLfcTjdi"
      },
      "source": [
        "# Machine Learning 1"
      ],
      "execution_count": null,
      "outputs": []
    },
    {
      "cell_type": "code",
      "metadata": {
        "id": "6KnUG4zXTu8e"
      },
      "source": [
        "# Machine Learning 2, if needed"
      ],
      "execution_count": null,
      "outputs": []
    },
    {
      "cell_type": "markdown",
      "metadata": {
        "id": "z_jtnE5A8aha"
      },
      "source": [
        "***************\n",
        "***************\n",
        "# **Conclusions**\n",
        "\n",
        "*Describe what you found and learned from your evaluation of your dataset*"
      ]
    }
  ]
}
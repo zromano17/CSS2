{
  "nbformat": 4,
  "nbformat_minor": 0,
  "metadata": {
    "colab": {
      "name": "Romano_Zachary_problem_set_4.ipynb",
      "provenance": [],
      "collapsed_sections": []
    },
    "kernelspec": {
      "name": "python3",
      "display_name": "Python 3"
    },
    "language_info": {
      "name": "python"
    }
  },
  "cells": [
    {
      "cell_type": "markdown",
      "metadata": {
        "id": "W9lASqQtXb-M"
      },
      "source": [
        "# Block 1\n",
        "Importing libraries"
      ]
    },
    {
      "cell_type": "code",
      "metadata": {
        "id": "7_qEkg9cU9qa"
      },
      "source": [
        "from bs4 import BeautifulSoup\n",
        "import requests\n",
        "import pandas as pd"
      ],
      "execution_count": 1,
      "outputs": []
    },
    {
      "cell_type": "markdown",
      "metadata": {
        "id": "PDn7MtJvXe5z"
      },
      "source": [
        "# Block 2\n",
        "Create the function"
      ]
    },
    {
      "cell_type": "code",
      "metadata": {
        "id": "nMfCj2z_XJ-c"
      },
      "source": [
        "def weather(zipcode):\n",
        "  \"\"\" a function that prints the name of the zipcode's city, the state of the city, the weather in Fahrenheit, and the zipcode\n",
        "\n",
        "  input:\n",
        "  zipcode = the zipcode you are using\n",
        "  \"\"\"\n",
        "\n",
        "  try:\n",
        "    # convert zip code to string\n",
        "    zipcode = str(zipcode)\n",
        "\n",
        "    url = \"https://weather.com/weather/today/l/\"\n",
        "    url2 = \":4:US\"\n",
        "\n",
        "    url = url + zipcode + url2\n",
        "\n",
        "    # pull content from url\n",
        "    response = requests.get(url)\n",
        "    soup = BeautifulSoup(response.content)\n",
        "\n",
        "    # find the city and state\n",
        "    for i in soup.find_all(class_ = \"CurrentConditions--location--1Ayv3\"):\n",
        "      location = i.text[:-8]\n",
        "\n",
        "    # find the weather in Fahrenheit\n",
        "    for i in soup.find_all(class_ = \"CurrentConditions--tempValue--3KcTQ\"):\n",
        "      temp = i.text\n",
        "\n",
        "    # return the temperature, location (city and state), and zip code\n",
        "    return print(temp, location, zipcode)\n",
        "\n",
        "\n",
        "  # return an error for inputs that are not valid zip codes\n",
        "  except:\n",
        "    return print(\"Error: Not a Valid Zip Code\")"
      ],
      "execution_count": 110,
      "outputs": []
    },
    {
      "cell_type": "markdown",
      "metadata": {
        "id": "p_YwRxjAXkcD"
      },
      "source": [
        "# Block 3\n",
        "Give an example of the function"
      ]
    },
    {
      "cell_type": "code",
      "metadata": {
        "colab": {
          "base_uri": "https://localhost:8080/"
        },
        "id": "gOQ3k3ci6ODn",
        "outputId": "166e6e22-569d-4e7f-83c1-ea844939f17f"
      },
      "source": [
        "weather(33111)"
      ],
      "execution_count": 116,
      "outputs": [
        {
          "output_type": "stream",
          "text": [
            "76° Miami, FL 33111\n"
          ],
          "name": "stdout"
        }
      ]
    }
  ]
}
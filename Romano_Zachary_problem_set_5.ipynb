{
  "nbformat": 4,
  "nbformat_minor": 0,
  "metadata": {
    "colab": {
      "name": "Romano_Zachary_problem_set_5.ipynb",
      "provenance": [],
      "toc_visible": true
    },
    "kernelspec": {
      "name": "python3",
      "display_name": "Python 3"
    },
    "language_info": {
      "name": "python"
    }
  },
  "cells": [
    {
      "cell_type": "markdown",
      "metadata": {
        "id": "NaZuEJ4dmStO"
      },
      "source": [
        "# Block 1\n",
        "Load relevant libraries"
      ]
    },
    {
      "cell_type": "code",
      "metadata": {
        "id": "snsM3KBimMpf"
      },
      "source": [
        "import pandas as pd\n",
        "import seaborn as sns\n",
        "import numpy as np"
      ],
      "execution_count": 1,
      "outputs": []
    },
    {
      "cell_type": "markdown",
      "metadata": {
        "id": "5FWlOi9KmXeD"
      },
      "source": [
        "# Block 2\n",
        "Load the data and make sure there are no extra index columns. Show the shape of the data AND the head of the data"
      ]
    },
    {
      "cell_type": "code",
      "metadata": {
        "colab": {
          "base_uri": "https://localhost:8080/",
          "height": 271
        },
        "id": "1aZd8yqnmcCN",
        "outputId": "4a882ca8-49a4-4d3b-d098-cf2901e85ac4"
      },
      "source": [
        "# Load in data and set column 1 as the index\n",
        "data = pd.read_excel(\"messed_up_iris.xlsx\", index_col = 0)\n",
        "\n",
        "# Show the shape of the data\n",
        "print(\"Shape of the data:\")\n",
        "print(data.shape)\n",
        "print()\n",
        "\n",
        "# Show head of the data\n",
        "print(\"Head of the data:\")\n",
        "data.head()"
      ],
      "execution_count": 3,
      "outputs": [
        {
          "output_type": "stream",
          "text": [
            "Shape of the data:\n",
            "(150, 7)\n",
            "\n",
            "Head of the data:\n"
          ],
          "name": "stdout"
        },
        {
          "output_type": "execute_result",
          "data": {
            "text/html": [
              "<div>\n",
              "<style scoped>\n",
              "    .dataframe tbody tr th:only-of-type {\n",
              "        vertical-align: middle;\n",
              "    }\n",
              "\n",
              "    .dataframe tbody tr th {\n",
              "        vertical-align: top;\n",
              "    }\n",
              "\n",
              "    .dataframe thead th {\n",
              "        text-align: right;\n",
              "    }\n",
              "</style>\n",
              "<table border=\"1\" class=\"dataframe\">\n",
              "  <thead>\n",
              "    <tr style=\"text-align: right;\">\n",
              "      <th></th>\n",
              "      <th>sepal_length</th>\n",
              "      <th>sepal_width</th>\n",
              "      <th>petal_length</th>\n",
              "      <th>petal_width</th>\n",
              "      <th>species</th>\n",
              "      <th>color</th>\n",
              "      <th>origin</th>\n",
              "    </tr>\n",
              "  </thead>\n",
              "  <tbody>\n",
              "    <tr>\n",
              "      <th>0</th>\n",
              "      <td>5.1</td>\n",
              "      <td>3.5</td>\n",
              "      <td>1.4</td>\n",
              "      <td>0.2</td>\n",
              "      <td>setosa</td>\n",
              "      <td>green</td>\n",
              "      <td>usa</td>\n",
              "    </tr>\n",
              "    <tr>\n",
              "      <th>1</th>\n",
              "      <td>4.9</td>\n",
              "      <td>3.0</td>\n",
              "      <td>1.4</td>\n",
              "      <td>0.2</td>\n",
              "      <td>setosa</td>\n",
              "      <td>yellow</td>\n",
              "      <td>usa</td>\n",
              "    </tr>\n",
              "    <tr>\n",
              "      <th>2</th>\n",
              "      <td>4.7</td>\n",
              "      <td>3.2</td>\n",
              "      <td>1.3</td>\n",
              "      <td>0.2</td>\n",
              "      <td>setosa</td>\n",
              "      <td>green</td>\n",
              "      <td>usa</td>\n",
              "    </tr>\n",
              "    <tr>\n",
              "      <th>3</th>\n",
              "      <td>4.6</td>\n",
              "      <td>3.1</td>\n",
              "      <td>1.5</td>\n",
              "      <td>0.2</td>\n",
              "      <td>setosa</td>\n",
              "      <td>orange</td>\n",
              "      <td>japan</td>\n",
              "    </tr>\n",
              "    <tr>\n",
              "      <th>4</th>\n",
              "      <td>5.0</td>\n",
              "      <td>3.6</td>\n",
              "      <td>1.4</td>\n",
              "      <td>0.2</td>\n",
              "      <td>setosa</td>\n",
              "      <td>blue</td>\n",
              "      <td>europe</td>\n",
              "    </tr>\n",
              "  </tbody>\n",
              "</table>\n",
              "</div>"
            ],
            "text/plain": [
              "   sepal_length  sepal_width  petal_length  petal_width species   color  origin\n",
              "0           5.1          3.5           1.4          0.2  setosa   green     usa\n",
              "1           4.9          3.0           1.4          0.2  setosa  yellow     usa\n",
              "2           4.7          3.2           1.3          0.2  setosa   green     usa\n",
              "3           4.6          3.1           1.5          0.2  setosa  orange   japan\n",
              "4           5.0          3.6           1.4          0.2  setosa    blue  europe"
            ]
          },
          "metadata": {
            "tags": []
          },
          "execution_count": 3
        }
      ]
    },
    {
      "cell_type": "markdown",
      "metadata": {
        "id": "mhgk6XNAmcII"
      },
      "source": [
        "# Block 3\n",
        "Remove columns and rows where there are more than 50% of the data missing. Show the shape of the data after you have removed those columns/rows"
      ]
    },
    {
      "cell_type": "code",
      "metadata": {
        "colab": {
          "base_uri": "https://localhost:8080/",
          "height": 271
        },
        "id": "HNUkBpWNmhxA",
        "outputId": "00b64b71-e48f-4ca3-b207-46106096ab77"
      },
      "source": [
        "# Remove columns where more than 50% of the data is missing\n",
        "data.dropna(thresh = len(data) / 2, axis = 1, inplace = True)\n",
        "\n",
        "# Remove rows where more than 50% of the data is missing\n",
        "data.dropna(thresh = len(data.columns) / 2, axis = 0, inplace = True)\n",
        "\n",
        "# Show the shape of the data\n",
        "print(\"Shape of the updated data:\")\n",
        "print(data.shape)\n",
        "print()\n",
        "\n",
        "# Show head of the data\n",
        "print(\"Head of the updated data:\")\n",
        "data.head()"
      ],
      "execution_count": 4,
      "outputs": [
        {
          "output_type": "stream",
          "text": [
            "Shape of the updated data:\n",
            "(145, 6)\n",
            "\n",
            "Head of the updated data:\n"
          ],
          "name": "stdout"
        },
        {
          "output_type": "execute_result",
          "data": {
            "text/html": [
              "<div>\n",
              "<style scoped>\n",
              "    .dataframe tbody tr th:only-of-type {\n",
              "        vertical-align: middle;\n",
              "    }\n",
              "\n",
              "    .dataframe tbody tr th {\n",
              "        vertical-align: top;\n",
              "    }\n",
              "\n",
              "    .dataframe thead th {\n",
              "        text-align: right;\n",
              "    }\n",
              "</style>\n",
              "<table border=\"1\" class=\"dataframe\">\n",
              "  <thead>\n",
              "    <tr style=\"text-align: right;\">\n",
              "      <th></th>\n",
              "      <th>sepal_length</th>\n",
              "      <th>sepal_width</th>\n",
              "      <th>petal_length</th>\n",
              "      <th>petal_width</th>\n",
              "      <th>species</th>\n",
              "      <th>origin</th>\n",
              "    </tr>\n",
              "  </thead>\n",
              "  <tbody>\n",
              "    <tr>\n",
              "      <th>0</th>\n",
              "      <td>5.1</td>\n",
              "      <td>3.5</td>\n",
              "      <td>1.4</td>\n",
              "      <td>0.2</td>\n",
              "      <td>setosa</td>\n",
              "      <td>usa</td>\n",
              "    </tr>\n",
              "    <tr>\n",
              "      <th>1</th>\n",
              "      <td>4.9</td>\n",
              "      <td>3.0</td>\n",
              "      <td>1.4</td>\n",
              "      <td>0.2</td>\n",
              "      <td>setosa</td>\n",
              "      <td>usa</td>\n",
              "    </tr>\n",
              "    <tr>\n",
              "      <th>2</th>\n",
              "      <td>4.7</td>\n",
              "      <td>3.2</td>\n",
              "      <td>1.3</td>\n",
              "      <td>0.2</td>\n",
              "      <td>setosa</td>\n",
              "      <td>usa</td>\n",
              "    </tr>\n",
              "    <tr>\n",
              "      <th>3</th>\n",
              "      <td>4.6</td>\n",
              "      <td>3.1</td>\n",
              "      <td>1.5</td>\n",
              "      <td>0.2</td>\n",
              "      <td>setosa</td>\n",
              "      <td>japan</td>\n",
              "    </tr>\n",
              "    <tr>\n",
              "      <th>4</th>\n",
              "      <td>5.0</td>\n",
              "      <td>3.6</td>\n",
              "      <td>1.4</td>\n",
              "      <td>0.2</td>\n",
              "      <td>setosa</td>\n",
              "      <td>europe</td>\n",
              "    </tr>\n",
              "  </tbody>\n",
              "</table>\n",
              "</div>"
            ],
            "text/plain": [
              "   sepal_length  sepal_width  petal_length  petal_width species  origin\n",
              "0           5.1          3.5           1.4          0.2  setosa     usa\n",
              "1           4.9          3.0           1.4          0.2  setosa     usa\n",
              "2           4.7          3.2           1.3          0.2  setosa     usa\n",
              "3           4.6          3.1           1.5          0.2  setosa   japan\n",
              "4           5.0          3.6           1.4          0.2  setosa  europe"
            ]
          },
          "metadata": {
            "tags": []
          },
          "execution_count": 4
        }
      ]
    },
    {
      "cell_type": "markdown",
      "metadata": {
        "id": "9JuN--NAmhpj"
      },
      "source": [
        "# Block 4\n",
        "Remove duplicate data, if there is any. Show the shape of the data"
      ]
    },
    {
      "cell_type": "code",
      "metadata": {
        "colab": {
          "base_uri": "https://localhost:8080/"
        },
        "id": "txRwkz2immX2",
        "outputId": "b504e05a-f857-4229-bf26-d005029745c1"
      },
      "source": [
        "# Drop duplicate rows\n",
        "data = data.drop_duplicates(ignore_index = True)\n",
        "\n",
        "# Show the shape of the data\n",
        "print(\"Shape of the data after removing duplicates:\")\n",
        "print(data.shape)"
      ],
      "execution_count": 5,
      "outputs": [
        {
          "output_type": "stream",
          "text": [
            "Shape of the data after removing duplicates:\n",
            "(140, 6)\n"
          ],
          "name": "stdout"
        }
      ]
    },
    {
      "cell_type": "markdown",
      "metadata": {
        "id": "EWcm0IwcmmeL"
      },
      "source": [
        "# Block 5\n",
        "Dummy code the categorical data. Show the head of the data"
      ]
    },
    {
      "cell_type": "code",
      "metadata": {
        "colab": {
          "base_uri": "https://localhost:8080/",
          "height": 202
        },
        "id": "0YrbVEKZmqCi",
        "outputId": "7a2b8767-edb2-407b-b288-699da8234cd4"
      },
      "source": [
        "# Fix errors in the species data\n",
        "data[\"species\"] = np.where(data[\"species\"] == \"seotsa\", \"setosa\", data[\"species\"])\n",
        "data[\"species\"] = np.where(data[\"species\"] == \"versicolr\", \"versicolor\", data[\"species\"])\n",
        "data[\"species\"] = np.where(data[\"species\"] == \"west virginia\", \"virginica\", data[\"species\"])\n",
        "data[\"species\"] = np.where(data[\"species\"] == \"virginia\", \"virginica\", data[\"species\"])\n",
        "\n",
        "# Dummy code species\n",
        "species_df = pd.get_dummies(data[\"species\"], drop_first = True)\n",
        "\n",
        "# Fix errors in the origin data\n",
        "data[\"origin\"] = np.where(data[\"origin\"] == \"euarope\", \"europe\", data[\"origin\"])\n",
        "data[\"origin\"] = np.where(data[\"origin\"] == \"uas\", \"usa\", data[\"origin\"])\n",
        "\n",
        "# Dummy code origin\n",
        "origin_df = pd.get_dummies(data[\"origin\"], drop_first = True)\n",
        "\n",
        "# Add the dummy coded variables to the dataframe\n",
        "data = pd.concat([data, species_df, origin_df], axis = 1)\n",
        "\n",
        "# Show head of the data\n",
        "data.head()"
      ],
      "execution_count": 6,
      "outputs": [
        {
          "output_type": "execute_result",
          "data": {
            "text/html": [
              "<div>\n",
              "<style scoped>\n",
              "    .dataframe tbody tr th:only-of-type {\n",
              "        vertical-align: middle;\n",
              "    }\n",
              "\n",
              "    .dataframe tbody tr th {\n",
              "        vertical-align: top;\n",
              "    }\n",
              "\n",
              "    .dataframe thead th {\n",
              "        text-align: right;\n",
              "    }\n",
              "</style>\n",
              "<table border=\"1\" class=\"dataframe\">\n",
              "  <thead>\n",
              "    <tr style=\"text-align: right;\">\n",
              "      <th></th>\n",
              "      <th>sepal_length</th>\n",
              "      <th>sepal_width</th>\n",
              "      <th>petal_length</th>\n",
              "      <th>petal_width</th>\n",
              "      <th>species</th>\n",
              "      <th>origin</th>\n",
              "      <th>versicolor</th>\n",
              "      <th>virginica</th>\n",
              "      <th>japan</th>\n",
              "      <th>usa</th>\n",
              "    </tr>\n",
              "  </thead>\n",
              "  <tbody>\n",
              "    <tr>\n",
              "      <th>0</th>\n",
              "      <td>5.1</td>\n",
              "      <td>3.5</td>\n",
              "      <td>1.4</td>\n",
              "      <td>0.2</td>\n",
              "      <td>setosa</td>\n",
              "      <td>usa</td>\n",
              "      <td>0</td>\n",
              "      <td>0</td>\n",
              "      <td>0</td>\n",
              "      <td>1</td>\n",
              "    </tr>\n",
              "    <tr>\n",
              "      <th>1</th>\n",
              "      <td>4.9</td>\n",
              "      <td>3.0</td>\n",
              "      <td>1.4</td>\n",
              "      <td>0.2</td>\n",
              "      <td>setosa</td>\n",
              "      <td>usa</td>\n",
              "      <td>0</td>\n",
              "      <td>0</td>\n",
              "      <td>0</td>\n",
              "      <td>1</td>\n",
              "    </tr>\n",
              "    <tr>\n",
              "      <th>2</th>\n",
              "      <td>4.7</td>\n",
              "      <td>3.2</td>\n",
              "      <td>1.3</td>\n",
              "      <td>0.2</td>\n",
              "      <td>setosa</td>\n",
              "      <td>usa</td>\n",
              "      <td>0</td>\n",
              "      <td>0</td>\n",
              "      <td>0</td>\n",
              "      <td>1</td>\n",
              "    </tr>\n",
              "    <tr>\n",
              "      <th>3</th>\n",
              "      <td>4.6</td>\n",
              "      <td>3.1</td>\n",
              "      <td>1.5</td>\n",
              "      <td>0.2</td>\n",
              "      <td>setosa</td>\n",
              "      <td>japan</td>\n",
              "      <td>0</td>\n",
              "      <td>0</td>\n",
              "      <td>1</td>\n",
              "      <td>0</td>\n",
              "    </tr>\n",
              "    <tr>\n",
              "      <th>4</th>\n",
              "      <td>5.0</td>\n",
              "      <td>3.6</td>\n",
              "      <td>1.4</td>\n",
              "      <td>0.2</td>\n",
              "      <td>setosa</td>\n",
              "      <td>europe</td>\n",
              "      <td>0</td>\n",
              "      <td>0</td>\n",
              "      <td>0</td>\n",
              "      <td>0</td>\n",
              "    </tr>\n",
              "  </tbody>\n",
              "</table>\n",
              "</div>"
            ],
            "text/plain": [
              "   sepal_length  sepal_width  petal_length  ...  virginica japan usa\n",
              "0           5.1          3.5           1.4  ...          0     0   1\n",
              "1           4.9          3.0           1.4  ...          0     0   1\n",
              "2           4.7          3.2           1.3  ...          0     0   1\n",
              "3           4.6          3.1           1.5  ...          0     1   0\n",
              "4           5.0          3.6           1.4  ...          0     0   0\n",
              "\n",
              "[5 rows x 10 columns]"
            ]
          },
          "metadata": {
            "tags": []
          },
          "execution_count": 6
        }
      ]
    },
    {
      "cell_type": "markdown",
      "metadata": {
        "id": "LaTQgPOvmqHs"
      },
      "source": [
        "# Block 6\n",
        "Drop the redundant columns from the dataframe so that you are left with just the dummy coded columns. Show the head of the data"
      ]
    },
    {
      "cell_type": "code",
      "metadata": {
        "colab": {
          "base_uri": "https://localhost:8080/",
          "height": 202
        },
        "id": "_cG04IeRms-a",
        "outputId": "79df8684-8a60-4b11-824d-d0e5f8e416a3"
      },
      "source": [
        "# Drop categorical species and origin columns\n",
        "data = data.drop(columns = [\"species\", \"origin\"])\n",
        "\n",
        "# Show head of the data\n",
        "data.head()"
      ],
      "execution_count": 7,
      "outputs": [
        {
          "output_type": "execute_result",
          "data": {
            "text/html": [
              "<div>\n",
              "<style scoped>\n",
              "    .dataframe tbody tr th:only-of-type {\n",
              "        vertical-align: middle;\n",
              "    }\n",
              "\n",
              "    .dataframe tbody tr th {\n",
              "        vertical-align: top;\n",
              "    }\n",
              "\n",
              "    .dataframe thead th {\n",
              "        text-align: right;\n",
              "    }\n",
              "</style>\n",
              "<table border=\"1\" class=\"dataframe\">\n",
              "  <thead>\n",
              "    <tr style=\"text-align: right;\">\n",
              "      <th></th>\n",
              "      <th>sepal_length</th>\n",
              "      <th>sepal_width</th>\n",
              "      <th>petal_length</th>\n",
              "      <th>petal_width</th>\n",
              "      <th>versicolor</th>\n",
              "      <th>virginica</th>\n",
              "      <th>japan</th>\n",
              "      <th>usa</th>\n",
              "    </tr>\n",
              "  </thead>\n",
              "  <tbody>\n",
              "    <tr>\n",
              "      <th>0</th>\n",
              "      <td>5.1</td>\n",
              "      <td>3.5</td>\n",
              "      <td>1.4</td>\n",
              "      <td>0.2</td>\n",
              "      <td>0</td>\n",
              "      <td>0</td>\n",
              "      <td>0</td>\n",
              "      <td>1</td>\n",
              "    </tr>\n",
              "    <tr>\n",
              "      <th>1</th>\n",
              "      <td>4.9</td>\n",
              "      <td>3.0</td>\n",
              "      <td>1.4</td>\n",
              "      <td>0.2</td>\n",
              "      <td>0</td>\n",
              "      <td>0</td>\n",
              "      <td>0</td>\n",
              "      <td>1</td>\n",
              "    </tr>\n",
              "    <tr>\n",
              "      <th>2</th>\n",
              "      <td>4.7</td>\n",
              "      <td>3.2</td>\n",
              "      <td>1.3</td>\n",
              "      <td>0.2</td>\n",
              "      <td>0</td>\n",
              "      <td>0</td>\n",
              "      <td>0</td>\n",
              "      <td>1</td>\n",
              "    </tr>\n",
              "    <tr>\n",
              "      <th>3</th>\n",
              "      <td>4.6</td>\n",
              "      <td>3.1</td>\n",
              "      <td>1.5</td>\n",
              "      <td>0.2</td>\n",
              "      <td>0</td>\n",
              "      <td>0</td>\n",
              "      <td>1</td>\n",
              "      <td>0</td>\n",
              "    </tr>\n",
              "    <tr>\n",
              "      <th>4</th>\n",
              "      <td>5.0</td>\n",
              "      <td>3.6</td>\n",
              "      <td>1.4</td>\n",
              "      <td>0.2</td>\n",
              "      <td>0</td>\n",
              "      <td>0</td>\n",
              "      <td>0</td>\n",
              "      <td>0</td>\n",
              "    </tr>\n",
              "  </tbody>\n",
              "</table>\n",
              "</div>"
            ],
            "text/plain": [
              "   sepal_length  sepal_width  petal_length  ...  virginica  japan  usa\n",
              "0           5.1          3.5           1.4  ...          0      0    1\n",
              "1           4.9          3.0           1.4  ...          0      0    1\n",
              "2           4.7          3.2           1.3  ...          0      0    1\n",
              "3           4.6          3.1           1.5  ...          0      1    0\n",
              "4           5.0          3.6           1.4  ...          0      0    0\n",
              "\n",
              "[5 rows x 8 columns]"
            ]
          },
          "metadata": {
            "tags": []
          },
          "execution_count": 7
        }
      ]
    },
    {
      "cell_type": "markdown",
      "metadata": {
        "id": "iVXzaItVmtEv"
      },
      "source": [
        "# Block 7\n",
        "Remove outliers above 2 standard deviations."
      ]
    },
    {
      "cell_type": "code",
      "metadata": {
        "id": "39cukLrdm05E"
      },
      "source": [
        "# Remove outliers for sepal length\n",
        "data[\"sepal_length\"] = np.where(data[\"sepal_length\"] > data[\"sepal_length\"].mean() + (2 * data[\"sepal_length\"].std()), np.nan, data[\"sepal_length\"])\n",
        "\n",
        "# Remove outliers for sepal width\n",
        "data[\"sepal_width\"] = np.where(data[\"sepal_width\"] > data[\"sepal_width\"].mean() + (2 * data[\"sepal_width\"].std()), np.nan, data[\"sepal_width\"])\n",
        "\n",
        "# Remove outliers for petal length\n",
        "data[\"petal_length\"] = np.where(data[\"petal_length\"] > data[\"petal_length\"].mean() + (2 * data[\"petal_length\"].std()), np.nan, data[\"petal_length\"])\n",
        "\n",
        "# Remove outliers for petal width\n",
        "data[\"petal_width\"] = np.where(data[\"petal_width\"] > data[\"petal_width\"].mean() + (2 * data[\"petal_width\"].std()), np.nan, data[\"petal_width\"])\n"
      ],
      "execution_count": 8,
      "outputs": []
    },
    {
      "cell_type": "markdown",
      "metadata": {
        "id": "NhoCTt65m1DS"
      },
      "source": [
        "# Block 8\n",
        "For the remaining missing data, replace with the median value. Or Bonus 0.5 points – Instead of replacing the missing data with the overall median value, replace them with the median value with respect to species. In other words, in the first row, if petal length is missing, then replace that petal length value with the median petal length value for the species setosa."
      ]
    },
    {
      "cell_type": "code",
      "metadata": {
        "id": "yM7JpXqXm9NR"
      },
      "source": [
        "# Fill missing values with the median value\n",
        "data = data.fillna(data.median())"
      ],
      "execution_count": 11,
      "outputs": []
    },
    {
      "cell_type": "markdown",
      "metadata": {
        "id": "ABju75w5m9lK"
      },
      "source": [
        "# Block 9\n",
        "Bonus 0.5 points – Bin or bucket the petal width column into low, medium, and high depending on the following bins = 0 to 0.9, 0.9 to 1.8, 1.8 to 2.7. These should not be dummy coded, but instead, you should have one column with pedal_width as 1 for 0 to 0.9, 2 for 0.9 to 1.8, and 3 for 1.8 to 2.7."
      ]
    },
    {
      "cell_type": "code",
      "metadata": {
        "id": "Lrk0faxGnCOJ"
      },
      "source": [
        "# Create 3 bins for low, medium, and high petal width\n",
        "data[\"petal_width\"] = pd.cut(data[\"petal_width\"], bins = [0, 0.9, 1.8, 2.7], labels = [1, 2, 3])"
      ],
      "execution_count": 12,
      "outputs": []
    },
    {
      "cell_type": "markdown",
      "metadata": {
        "id": "N4wvVJ2HnCSQ"
      },
      "source": [
        "# Block 10\n",
        "Show (i.e., print) that there are no missing data and also use the describe method to show off the final dataset."
      ]
    },
    {
      "cell_type": "code",
      "metadata": {
        "colab": {
          "base_uri": "https://localhost:8080/",
          "height": 485
        },
        "id": "dEU58G1vnGtH",
        "outputId": "1d355517-21a7-482a-8d73-d54d21b87f87"
      },
      "source": [
        "# Show that there are no missing data\n",
        "print(data.isnull().any())\n",
        "print()\n",
        "\n",
        "# Show the final dataset\n",
        "print(\"Descriptive Statistics for the Final Dataset:\")\n",
        "data.describe()"
      ],
      "execution_count": 13,
      "outputs": [
        {
          "output_type": "stream",
          "text": [
            "sepal_length    False\n",
            "sepal_width     False\n",
            "petal_length    False\n",
            "petal_width     False\n",
            "versicolor      False\n",
            "virginica       False\n",
            "japan           False\n",
            "usa             False\n",
            "dtype: bool\n",
            "\n",
            "Descriptive Statistics for the Final Dataset:\n"
          ],
          "name": "stdout"
        },
        {
          "output_type": "execute_result",
          "data": {
            "text/html": [
              "<div>\n",
              "<style scoped>\n",
              "    .dataframe tbody tr th:only-of-type {\n",
              "        vertical-align: middle;\n",
              "    }\n",
              "\n",
              "    .dataframe tbody tr th {\n",
              "        vertical-align: top;\n",
              "    }\n",
              "\n",
              "    .dataframe thead th {\n",
              "        text-align: right;\n",
              "    }\n",
              "</style>\n",
              "<table border=\"1\" class=\"dataframe\">\n",
              "  <thead>\n",
              "    <tr style=\"text-align: right;\">\n",
              "      <th></th>\n",
              "      <th>sepal_length</th>\n",
              "      <th>sepal_width</th>\n",
              "      <th>petal_length</th>\n",
              "      <th>versicolor</th>\n",
              "      <th>virginica</th>\n",
              "      <th>japan</th>\n",
              "      <th>usa</th>\n",
              "    </tr>\n",
              "  </thead>\n",
              "  <tbody>\n",
              "    <tr>\n",
              "      <th>count</th>\n",
              "      <td>140.000000</td>\n",
              "      <td>140.000000</td>\n",
              "      <td>140.000000</td>\n",
              "      <td>140.000000</td>\n",
              "      <td>140.000000</td>\n",
              "      <td>140.000000</td>\n",
              "      <td>140.000000</td>\n",
              "    </tr>\n",
              "    <tr>\n",
              "      <th>mean</th>\n",
              "      <td>5.872143</td>\n",
              "      <td>3.057857</td>\n",
              "      <td>3.790000</td>\n",
              "      <td>0.307143</td>\n",
              "      <td>0.350000</td>\n",
              "      <td>0.300000</td>\n",
              "      <td>0.364286</td>\n",
              "    </tr>\n",
              "    <tr>\n",
              "      <th>std</th>\n",
              "      <td>0.791508</td>\n",
              "      <td>0.431505</td>\n",
              "      <td>1.718134</td>\n",
              "      <td>0.462966</td>\n",
              "      <td>0.478682</td>\n",
              "      <td>0.459903</td>\n",
              "      <td>0.482957</td>\n",
              "    </tr>\n",
              "    <tr>\n",
              "      <th>min</th>\n",
              "      <td>4.300000</td>\n",
              "      <td>2.000000</td>\n",
              "      <td>1.000000</td>\n",
              "      <td>0.000000</td>\n",
              "      <td>0.000000</td>\n",
              "      <td>0.000000</td>\n",
              "      <td>0.000000</td>\n",
              "    </tr>\n",
              "    <tr>\n",
              "      <th>25%</th>\n",
              "      <td>5.200000</td>\n",
              "      <td>2.800000</td>\n",
              "      <td>1.575000</td>\n",
              "      <td>0.000000</td>\n",
              "      <td>0.000000</td>\n",
              "      <td>0.000000</td>\n",
              "      <td>0.000000</td>\n",
              "    </tr>\n",
              "    <tr>\n",
              "      <th>50%</th>\n",
              "      <td>5.800000</td>\n",
              "      <td>3.000000</td>\n",
              "      <td>4.400000</td>\n",
              "      <td>0.000000</td>\n",
              "      <td>0.000000</td>\n",
              "      <td>0.000000</td>\n",
              "      <td>0.000000</td>\n",
              "    </tr>\n",
              "    <tr>\n",
              "      <th>75%</th>\n",
              "      <td>6.400000</td>\n",
              "      <td>3.300000</td>\n",
              "      <td>5.100000</td>\n",
              "      <td>1.000000</td>\n",
              "      <td>1.000000</td>\n",
              "      <td>1.000000</td>\n",
              "      <td>1.000000</td>\n",
              "    </tr>\n",
              "    <tr>\n",
              "      <th>max</th>\n",
              "      <td>7.900000</td>\n",
              "      <td>4.400000</td>\n",
              "      <td>6.900000</td>\n",
              "      <td>1.000000</td>\n",
              "      <td>1.000000</td>\n",
              "      <td>1.000000</td>\n",
              "      <td>1.000000</td>\n",
              "    </tr>\n",
              "  </tbody>\n",
              "</table>\n",
              "</div>"
            ],
            "text/plain": [
              "       sepal_length  sepal_width  ...       japan         usa\n",
              "count    140.000000   140.000000  ...  140.000000  140.000000\n",
              "mean       5.872143     3.057857  ...    0.300000    0.364286\n",
              "std        0.791508     0.431505  ...    0.459903    0.482957\n",
              "min        4.300000     2.000000  ...    0.000000    0.000000\n",
              "25%        5.200000     2.800000  ...    0.000000    0.000000\n",
              "50%        5.800000     3.000000  ...    0.000000    0.000000\n",
              "75%        6.400000     3.300000  ...    1.000000    1.000000\n",
              "max        7.900000     4.400000  ...    1.000000    1.000000\n",
              "\n",
              "[8 rows x 7 columns]"
            ]
          },
          "metadata": {
            "tags": []
          },
          "execution_count": 13
        }
      ]
    }
  ]
}